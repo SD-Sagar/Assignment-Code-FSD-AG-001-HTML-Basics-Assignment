{
  "nbformat": 4,
  "nbformat_minor": 0,
  "metadata": {
    "colab": {
      "provenance": []
    },
    "kernelspec": {
      "name": "python3",
      "display_name": "Python 3"
    },
    "language_info": {
      "name": "python"
    }
  },
  "cells": [
    {
      "cell_type": "code",
      "execution_count": null,
      "metadata": {
        "id": "V7ia21Vl4WFb"
      },
      "outputs": [],
      "source": []
    },
    {
      "cell_type": "markdown",
      "source": [
        "#Assignment Code: FSD-AG-001\n",
        "\n",
        "#HTML Basics | Assignment\n",
        "\n",
        "1.Explain the basic structure of an HTML page. Why is it important to follow this structure?\n",
        "\n",
        "     ->Basic Structure :- A typical, minimal HTML page has the followin structure:\n",
        "\n",
        "\n",
        "\n"
      ],
      "metadata": {
        "id": "mnP-oZ4g4aR9"
      }
    },
    {
      "cell_type": "markdown",
      "source": [
        "\n",
        "\n",
        "```\n",
        "    <!DOCTYPE html>\n",
        "<html>\n",
        "  <head>\n",
        "    <meta charset=\"UTF-8\">\n",
        "    <meta name=\"viewport\" content=\"width=device-width, initial-scale=1.0\">\n",
        "    <title>Page Title</title>\n",
        "  </head>\n",
        "  <body>\n",
        "    <h1>My First Heading</h1>\n",
        "    <p>My first paragraph.</p>\n",
        "  </body>\n",
        "</html>\n",
        "```\n",
        "\n",
        "\n",
        "    \n",
        "     it is important to follow because following the basic HTML structure is crucial for correct browser rendering, accessibility, and search engine optimization (SEO).\n",
        "\n",
        "    *   It tells the browser how to properly display the page.\n",
        "    *   It helps assistive technologies (like screen readers) understand the content\n",
        "\n",
        "    *  It allows search engines to better index and rank the page.\n",
        "\n",
        "\n",
        "\n",
        "\n",
        "\n",
        "\n"
      ],
      "metadata": {
        "id": "gYpwwVoz52zG"
      }
    },
    {
      "cell_type": "markdown",
      "source": [
        "2.You’re building a small personal profile page. Which HTML tags will you\n",
        "use to highlight your name as a heading, describe yourself in a paragraph, and emphasize a key skill?\n",
        "\n",
        "     ->To highlight my name as a heading, I will use a \"h1\" tag. To describe myself in a paragraph, I will use the \"p\" tag. To emphasize a key skill, use the \"strong\" tag.\n",
        "\n",
        "\n"
      ],
      "metadata": {
        "id": "LpWXUjIN60_4"
      }
    },
    {
      "cell_type": "markdown",
      "source": [
        "3. Look at the code below. Can you find and fix the mistake?\n",
        "```\n",
        "<!-- This is an HTML comment\n",
        "<h1>Welcome to my website</h1>\n",
        "```"
      ],
      "metadata": {
        "id": "YPz2DBvV7-ww"
      }
    },
    {
      "cell_type": "markdown",
      "source": [
        "     ->The mistake is an unclosed comment tag. below is the fixed code\n",
        "```\n",
        "<!-- This is an HTML comment -->\n",
        "<h1>Welcome to my website</h1>\n",
        "```\n",
        "\n"
      ],
      "metadata": {
        "id": "cQQaNCVr8beJ"
      }
    },
    {
      "cell_type": "markdown",
      "source": [
        "4.You’re creating a form that asks the user to enter their name, select their country from a list, and click a button to submit. Write the HTML code for this.\n",
        "\n",
        "```\n",
        "<!DOCTYPE html>\n",
        "<html lang=\"en\">\n",
        "<head>\n",
        "    <meta charset=\"UTF-8\">\n",
        "    <meta name=\"viewport\" content=\"width=device-width, initial-scale=1.0\">\n",
        "    <title>Form</title>\n",
        "</head>\n",
        "<body>\n",
        "    <div>\n",
        "    <form >\n",
        "        <label for=\"name\">Name:</label>\n",
        "        <input type=\"text\" name=\"name\" id=\"name\" placeholder=\"Enter Your Name\"><br>\n",
        "        <label for=\"country\">Select Your Country</label>\n",
        "        <select name=\"country\" id=\"country\">\n",
        "            <option value=\"\">Select your country</option>\n",
        "            <option value=\"India\">India</option>\n",
        "            <option value=\"Japan\">Japan</option>\n",
        "            <option value=\"China\">China</option>\n",
        "        </select><br>\n",
        "        <button type=\"submit\">Submit</button>\n",
        "    </form>\n",
        "    </div>\n",
        "</body>\n",
        "</html>\n",
        "```\n",
        "\n",
        ""
      ],
      "metadata": {
        "id": "S3spSepS9E8h"
      }
    },
    {
      "cell_type": "markdown",
      "source": [
        "5.Write short HTML code to show your favorite fruits in a bulleted list and your top 3 programming languages in a numbered list.\n",
        "\n",
        "\n",
        "```\n",
        "<!DOCTYPE html>\n",
        "<html lang=\"en\">\n",
        "<head>\n",
        "    <meta charset=\"UTF-8\">\n",
        "    <meta name=\"viewport\" content=\"width=device-width, initial-scale=1.0\">\n",
        "    <title>List</title>\n",
        "</head>\n",
        "<body>\n",
        "    <div>\n",
        "        <h3>My favorite fruits</h3>\n",
        "       <ul >\n",
        "        <li>Apple</li>\n",
        "        <li>Banana</li>\n",
        "        <li>Grape</li>\n",
        "       </ul><br>\n",
        "       <h3>My top 3 programming languages</h3>\n",
        "       <ol>\n",
        "        <li>Java</li>\n",
        "        <li>PHP</li>\n",
        "        <li>Python</li>\n",
        "       </ol>\n",
        "    </div>\n",
        "</body>\n",
        "</html>\n",
        "```\n",
        "\n"
      ],
      "metadata": {
        "id": "E1QHE0DVAgoH"
      }
    },
    {
      "cell_type": "markdown",
      "source": [
        " 6: Ravi wants to leave a note in his HTML file so that only other developers can see it, not the users on the website. How should he do this? Why are such notes useful?\n",
        "\n",
        "     ->An HTML comment is what Ravi needs to utilize.\n",
        "        Comments are helpful for:\n",
        "*   He or other developers are left with reminders or explanations.\n",
        "*   Code can be temporarily disabled without being removed.\n",
        "*    provide background information for intricate or obscure code segments.\n",
        "\n",
        "\n",
        "\n",
        "\n",
        "\n",
        "\n",
        "\n",
        "\n",
        "\n",
        "\n"
      ],
      "metadata": {
        "id": "6S9nZuYHCFF_"
      }
    },
    {
      "cell_type": "markdown",
      "source": [
        "7.Here’s a form snippet. Can you spot the error and rewrite the correct\n",
        "version?\n",
        "\n",
        "\n",
        "```\n",
        "<form>\n",
        "<input name=\"email\">\n",
        "<select>\n",
        "<option>India</option>\n",
        "</select>\n",
        "<button>Send</buton>\n",
        "</form>\n",
        "```\n",
        "\n"
      ],
      "metadata": {
        "id": "kqL9LUABDIX5"
      }
    },
    {
      "cell_type": "markdown",
      "source": [
        "     ->Answer, the input element was using wrong attribute, below is the fixed code.\n",
        "     \n",
        "\n",
        "```\n",
        "<form>\n",
        "<input type=\"email\">\n",
        "<select>\n",
        "<option>India</option>\n",
        "</select>\n",
        "<button>Send</buton>\n",
        "</form>\n",
        "```\n",
        "\n",
        ""
      ],
      "metadata": {
        "id": "uSJ-UPniDOB4"
      }
    }
  ]
}